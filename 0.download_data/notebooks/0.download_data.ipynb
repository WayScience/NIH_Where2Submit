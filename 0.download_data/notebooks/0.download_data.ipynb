{
 "cells": [
  {
   "cell_type": "markdown",
   "metadata": {},
   "source": [
    "This notebook retrieves NIH Funding data from static files from the NIH webpage."
   ]
  },
  {
   "cell_type": "code",
   "execution_count": 1,
   "metadata": {},
   "outputs": [],
   "source": [
    "import pathlib\n",
    "\n",
    "import pandas as pd\n",
    "import requests"
   ]
  },
  {
   "cell_type": "code",
   "execution_count": 2,
   "metadata": {},
   "outputs": [],
   "source": [
    "# set the path to where the data will be stored\n",
    "data_path = pathlib.Path(\"../../data/\").resolve()\n",
    "data_path.mkdir(exist_ok=True, parents=True)"
   ]
  },
  {
   "cell_type": "code",
   "execution_count": 3,
   "metadata": {},
   "outputs": [],
   "source": [
    "# set a dictionary with the urls of the data\n",
    "# dictionary makes the download process expandable\n",
    "data_to_download = {\n",
    "    \"file_name\": [],\n",
    "    \"file_url\": [],\n",
    "}\n",
    "# add the urls to the dictionary\n",
    "# academic projects funded by NIH\n",
    "data_to_download[\"file_name\"].append(\"All_academic_projects_funded_by_NIH_\")\n",
    "data_to_download[\"file_url\"].append(\n",
    "    \"https://report.nih.gov/reportweb/web/displayreport?rId=601\"\n",
    ")"
   ]
  },
  {
   "cell_type": "code",
   "execution_count": 4,
   "metadata": {},
   "outputs": [],
   "source": [
    "for file_name, file_url in zip(\n",
    "    data_to_download[\"file_name\"], data_to_download[\"file_url\"]\n",
    "):\n",
    "    # get the xls file from the url and save it to the data folder\n",
    "    response = requests.get(file_url)\n",
    "    with open(data_path / f\"{file_name}.xlsx\", \"wb\") as f:\n",
    "        f.write(response.content)"
   ]
  }
 ],
 "metadata": {
  "kernelspec": {
   "display_name": "NIH_env",
   "language": "python",
   "name": "python3"
  },
  "language_info": {
   "codemirror_mode": {
    "name": "ipython",
    "version": 3
   },
   "file_extension": ".py",
   "mimetype": "text/x-python",
   "name": "python",
   "nbconvert_exporter": "python",
   "pygments_lexer": "ipython3",
   "version": "3.12.5"
  }
 },
 "nbformat": 4,
 "nbformat_minor": 2
}
