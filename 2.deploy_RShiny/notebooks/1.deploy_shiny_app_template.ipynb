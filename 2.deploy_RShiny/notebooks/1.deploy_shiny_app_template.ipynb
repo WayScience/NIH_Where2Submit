{
 "cells": [
  {
   "cell_type": "code",
   "execution_count": null,
   "metadata": {
    "vscode": {
     "languageId": "r"
    }
   },
   "outputs": [],
   "source": [
    "library(dplyr)\n",
    "library(ggplot2)\n",
    "library(rsconnect)"
   ]
  },
  {
   "cell_type": "markdown",
   "metadata": {},
   "source": [
    "# Set up system variables"
   ]
  },
  {
   "cell_type": "code",
   "execution_count": null,
   "metadata": {
    "vscode": {
     "languageId": "r"
    }
   },
   "outputs": [],
   "source": [
    "rsconnect::setAccountInfo(\n",
    "  name = Sys.getenv(\"RSCONNECT_NAME\"),\n",
    "  token = Sys.getenv(\"RSCONNECT_TOKEN\"),\n",
    "  secret = Sys.getenv(\"RSCONNECT_SECRET\")\n",
    ")\n",
    "\n",
    "rsconnect::deployApp(appDir = \"../temporal_shiny_app\", appName = \"temporal_shiny_app\")\n"
   ]
  }
 ],
 "metadata": {
  "kernelspec": {
   "display_name": "R",
   "language": "R",
   "name": "ir"
  },
  "language_info": {
   "codemirror_mode": "r",
   "file_extension": ".r",
   "mimetype": "text/x-r-source",
   "name": "R",
   "pygments_lexer": "r",
   "version": "4.2.2"
  }
 },
 "nbformat": 4,
 "nbformat_minor": 2
}
